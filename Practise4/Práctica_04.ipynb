{
 "cells": [
  {
   "cell_type": "markdown",
   "metadata": {
    "ein.tags": [
     "worksheet-0"
    ],
    "slideshow": {
     "slide_type": "-"
    }
   },
   "source": [
    "# El problema de las tarjetas numeradas"
   ]
  },
  {
   "cell_type": "markdown",
   "metadata": {
    "ein.tags": [
     "worksheet-0"
    ],
    "slideshow": {
     "slide_type": "-"
    }
   },
   "source": [
    "Se tienen diez tarjetas, numeradas de 1 a 10. El problema consiste en disponer esas tarjetas en dos pilas, $P_1$ y $P_2$, de tal forma que la suma de los números de las tarjetas en $P_1$ sea lo más próxima posible a 36 y el producto de los números de las tarjetas en $P_2$ sea los más próximo posible a 360."
   ]
  },
  {
   "cell_type": "markdown",
   "metadata": {
    "ein.tags": [
     "worksheet-0"
    ],
    "slideshow": {
     "slide_type": "-"
    }
   },
   "source": [
    "Para resolver el problema mediante algoritmos genéticos definimos los parámetros necesarios de la siguiente manera:\n",
    "* Los genes son 0 y 1.\n",
    "* Los individuos son cromosomas de longitud 10.\n",
    "* Cada individuo representa la solución en la que la tarjeta $i$-ésima va a la pila $P_1$ si el gen $i$-ésimo es 0 y a la pila $P_2$ si es 1.\n",
    "* La evaluación del fenotipo de cada individuo es la diferencia en valor absoluto de la suma de las tarjetas en la pila $P_1$ con respecto a 36, más la diferencia en valor absoluto del producto de las tarjetas en $P_2$ con respecto a 360.\n",
    "\n",
    "Se trata entonces de un problema de minimización, donde la solución perfecta sería la evaluada con 0."
   ]
  },
  {
   "cell_type": "markdown",
   "metadata": {
    "ein.tags": [
     "worksheet-0"
    ],
    "slideshow": {
     "slide_type": "-"
    }
   },
   "source": [
    "El paquete de _Python_ [DEAP](http://deap.readthedocs.org/en/1.0.x/) proporciona un marco de trabajo para la computación evolutiva, en particular los algoritmos genéticos."
   ]
  },
  {
   "cell_type": "markdown",
   "metadata": {
    "ein.tags": [
     "worksheet-0"
    ],
    "slideshow": {
     "slide_type": "-"
    }
   },
   "source": [
    "En primer lugar, importamos los módulos necesarios:"
   ]
  },
  {
   "cell_type": "code",
   "execution_count": 1,
   "metadata": {
    "autoscroll": "json-false",
    "ein.tags": [
     "worksheet-0"
    ],
    "slideshow": {
     "slide_type": "-"
    }
   },
   "outputs": [
    {
     "name": "stderr",
     "output_type": "stream",
     "text": [
      "/anaconda3/lib/python3.6/site-packages/deap-1.2.2-py3.6.egg/deap/tools/_hypervolume/pyhv.py:33: ImportWarning: Falling back to the python version of hypervolume module. Expect this to be very slow.\n"
     ]
    }
   ],
   "source": [
    "import random\n",
    "from deap import base, creator, tools, algorithms\n",
    "import numpy"
   ]
  },
  {
   "cell_type": "markdown",
   "metadata": {
    "ein.tags": [
     "worksheet-0"
    ],
    "slideshow": {
     "slide_type": "-"
    }
   },
   "source": [
    "En la literatura acerca de los algoritmos genéticos podemos encontrar multitud de maneras de representar los individuos. Debido a ello, el paquete DEAP no proporciona representaciones concretas, sino que implementa un mecanismo general para declararlas. Para atenernos a la representación de un individuo como una secuencia de genes considerada en clase, declararemos una clase _Individuo_ que herede del tipo _list_ de _Python_."
   ]
  },
  {
   "cell_type": "markdown",
   "metadata": {
    "ein.tags": [
     "worksheet-0"
    ],
    "slideshow": {
     "slide_type": "-"
    }
   },
   "source": [
    "Todo individuo debe tener un atributo `fitness` que guarde su evaluación. Hay que tener en cuenta no obstante que el paquete DEAP trata a la optimización uniobjetivo, en la que a cada individuo se le asocia un único valor de _fitness_, como un caso particular de optimización multiobjetivo, en la que a cada individuo se le asocian varios valores de _fitness_, con un determinado peso cada uno. Es por ello que el valor que se guarde en el atributo `fitness` de cada individuo será una tupla con el valor de cada función _fitness_ multiplicado por el peso asociado."
   ]
  },
  {
   "cell_type": "markdown",
   "metadata": {
    "ein.tags": [
     "worksheet-0"
    ],
    "slideshow": {
     "slide_type": "-"
    }
   },
   "source": [
    "Por tanto, para representar las evaluaciones de los individuos deberemos declarar una clase que herede de la clase `base.Fitness` (que se encargará de automatizar el producto de los valores por los pesos) y en la que establezcamos en el atributo `weights` una tupla con los valores de los pesos, como números reales. En el caso de la optimización uniobjetivo, que es la considerada en clase, trabajaríamos con tuplas de longitud 1. Debe tenerse en cuenta que los algoritmos implementados en el paquete DEAP tratan de encontrar el individuo con evaluación máxima, por lo que para un problema de maximización bastaría usar la tupla `(1.0,)` como valor para el atributo `weights`. Para un problema de minimización habría que modificar la función *fitness*, aunque para simplemente cambiarle el signo bastaría usar la tupla `(-1.0,)` como valor para el atributo `weights`."
   ]
  },
  {
   "cell_type": "markdown",
   "metadata": {
    "ein.tags": [
     "worksheet-0"
    ],
    "slideshow": {
     "slide_type": "-"
    }
   },
   "source": [
    "Por último, el paquete DEAP implementa un mecanismo, a través de la función `creator.create`, para declarar una clase de objetos que herede de la clase base especificada y tenga los valores indicados para los atributos especificados. Esas clases se crearían dentro del módulo `creator`."
   ]
  },
  {
   "cell_type": "markdown",
   "metadata": {
    "ein.tags": [
     "worksheet-0"
    ],
    "slideshow": {
     "slide_type": "-"
    }
   },
   "source": [
    "Podemos entonces declarar la clase `Fitness` en el módulo `creator` con la siguiente expresión"
   ]
  },
  {
   "cell_type": "code",
   "execution_count": 2,
   "metadata": {
    "autoscroll": "json-false",
    "ein.tags": [
     "worksheet-0"
    ],
    "slideshow": {
     "slide_type": "-"
    }
   },
   "outputs": [],
   "source": [
    "creator.create('Fitness', base.Fitness, weights=(-1.0,))"
   ]
  },
  {
   "cell_type": "markdown",
   "metadata": {
    "ein.tags": [
     "worksheet-0"
    ],
    "slideshow": {
     "slide_type": "-"
    }
   },
   "source": [
    "La clase `Individuo` la declaramos en el módulo `creator` con la expresión"
   ]
  },
  {
   "cell_type": "code",
   "execution_count": 3,
   "metadata": {
    "autoscroll": "json-false",
    "ein.tags": [
     "worksheet-0"
    ],
    "slideshow": {
     "slide_type": "-"
    }
   },
   "outputs": [],
   "source": [
    "creator.create('Individuo', list, fitness = creator.Fitness)"
   ]
  },
  {
   "cell_type": "markdown",
   "metadata": {
    "ein.tags": [
     "worksheet-0"
    ],
    "slideshow": {
     "slide_type": "-"
    }
   },
   "source": [
    "Ahora debemos crear una _caja de herramientas_ (_toolbox_) en la que registremos todos los elementos necesarios para poder aplicar un algoritmo genético."
   ]
  },
  {
   "cell_type": "code",
   "execution_count": 4,
   "metadata": {
    "autoscroll": "json-false",
    "ein.tags": [
     "worksheet-0"
    ],
    "slideshow": {
     "slide_type": "-"
    }
   },
   "outputs": [],
   "source": [
    "caja_de_herramientas = base.Toolbox()"
   ]
  },
  {
   "cell_type": "markdown",
   "metadata": {
    "ein.tags": [
     "worksheet-0"
    ],
    "slideshow": {
     "slide_type": "-"
    }
   },
   "source": [
    "El método `register` de la caja de herramientas permite registrar funciones, dándole un nombre y estableciendo unos valores por defecto de los argumentos."
   ]
  },
  {
   "cell_type": "markdown",
   "metadata": {
    "ein.tags": [
     "worksheet-0"
    ],
    "slideshow": {
     "slide_type": "-"
    }
   },
   "source": [
    "En primer lugar registramos una función `gen` que devuelve un 0 o un 1 de manera aleatoria."
   ]
  },
  {
   "cell_type": "code",
   "execution_count": 5,
   "metadata": {
    "autoscroll": "json-false",
    "ein.tags": [
     "worksheet-0"
    ],
    "slideshow": {
     "slide_type": "-"
    }
   },
   "outputs": [],
   "source": [
    "caja_de_herramientas.register('gen', random.randint, 0, 1)"
   ]
  },
  {
   "cell_type": "code",
   "execution_count": 6,
   "metadata": {
    "autoscroll": "json-false",
    "ein.tags": [
     "worksheet-0"
    ],
    "slideshow": {
     "slide_type": "-"
    }
   },
   "outputs": [
    {
     "name": "stdout",
     "output_type": "stream",
     "text": [
      "1\n",
      "0\n",
      "1\n",
      "1\n",
      "0\n"
     ]
    }
   ],
   "source": [
    "random.seed(12345)  # Semilla para el mecanismo de generación de números aleatorios\n",
    "for _ in range(5):\n",
    "    print(caja_de_herramientas.gen())"
   ]
  },
  {
   "cell_type": "markdown",
   "metadata": {
    "ein.tags": [
     "worksheet-0"
    ],
    "slideshow": {
     "slide_type": "-"
    }
   },
   "source": [
    "Para generar un individuo debemos generar 10 genes de manera aleatoria. La función `initRepeat` del módulo `tools` aplicada a los argumentos `container`, `func` y `n` guarda en el contenedor `container` los resultados obtenidos al aplicar `n` veces la función `func`. Podemos entonces registrar de la siguiente manera en la caja de herramientas una función `individuo` que devuelve un individuo aleatorio."
   ]
  },
  {
   "cell_type": "code",
   "execution_count": 7,
   "metadata": {
    "autoscroll": "json-false",
    "ein.tags": [
     "worksheet-0"
    ],
    "slideshow": {
     "slide_type": "-"
    }
   },
   "outputs": [],
   "source": [
    "caja_de_herramientas.register('individuo', tools.initRepeat,\n",
    "                              container=creator.Individuo, func=caja_de_herramientas.gen, n=10)"
   ]
  },
  {
   "cell_type": "code",
   "execution_count": 8,
   "metadata": {
    "autoscroll": "json-false",
    "ein.tags": [
     "worksheet-0"
    ],
    "slideshow": {
     "slide_type": "-"
    }
   },
   "outputs": [
    {
     "data": {
      "text/plain": [
       "[1, 0, 1, 1, 0, 1, 1, 0, 1, 0]"
      ]
     },
     "execution_count": 8,
     "metadata": {},
     "output_type": "execute_result"
    }
   ],
   "source": [
    "random.seed(12345)\n",
    "caja_de_herramientas.individuo()"
   ]
  },
  {
   "cell_type": "markdown",
   "metadata": {
    "ein.tags": [
     "worksheet-0"
    ],
    "slideshow": {
     "slide_type": "-"
    }
   },
   "source": [
    "Consideraremos una población como una lista de 10 individuos. Haciendo uso de nuevo de la función `initRepeat` podemos registrar en la caja de herramientas una función `población` que devuelve una población aleatoria."
   ]
  },
  {
   "cell_type": "code",
   "execution_count": 9,
   "metadata": {
    "autoscroll": "json-false",
    "ein.tags": [
     "worksheet-0"
    ],
    "slideshow": {
     "slide_type": "-"
    }
   },
   "outputs": [],
   "source": [
    "caja_de_herramientas.register('población', tools.initRepeat,\n",
    "                              container=list, func=caja_de_herramientas.individuo, n=10)"
   ]
  },
  {
   "cell_type": "code",
   "execution_count": 10,
   "metadata": {
    "autoscroll": "json-false",
    "ein.tags": [
     "worksheet-0"
    ],
    "slideshow": {
     "slide_type": "-"
    }
   },
   "outputs": [
    {
     "data": {
      "text/plain": [
       "[[1, 0, 1, 1, 0, 1, 1, 0, 1, 0],\n",
       " [1, 1, 0, 0, 1, 0, 1, 0, 0, 0],\n",
       " [0, 0, 1, 1, 0, 1, 1, 0, 1, 0],\n",
       " [0, 0, 0, 1, 0, 1, 0, 0, 1, 0],\n",
       " [1, 0, 0, 0, 1, 0, 0, 1, 1, 0],\n",
       " [0, 0, 1, 0, 0, 0, 1, 1, 0, 1],\n",
       " [1, 0, 0, 0, 1, 0, 1, 0, 0, 1],\n",
       " [0, 0, 1, 0, 0, 1, 1, 1, 0, 1],\n",
       " [0, 0, 0, 1, 0, 1, 0, 0, 0, 0],\n",
       " [1, 0, 0, 0, 0, 0, 1, 0, 0, 1]]"
      ]
     },
     "execution_count": 10,
     "metadata": {},
     "output_type": "execute_result"
    }
   ],
   "source": [
    "random.seed(12345)\n",
    "caja_de_herramientas.población()"
   ]
  },
  {
   "cell_type": "markdown",
   "metadata": {
    "ein.tags": [
     "worksheet-0"
    ],
    "slideshow": {
     "slide_type": "-"
    }
   },
   "source": [
    "A continuación registramos la función que permite evaluar el fenotipo de cada individuo. __La función debe devolver una tupla y los algoritmos genéticos implementados en el paquete DEAP esperan que esté registrada con el nombre__ `evaluate`."
   ]
  },
  {
   "cell_type": "code",
   "execution_count": 11,
   "metadata": {},
   "outputs": [],
   "source": [
    "def fenotipo(individuo):\n",
    "    P1 = []\n",
    "    P2 = []\n",
    "    for i in range(10):\n",
    "        if individuo[i] == 0:\n",
    "            P1.append(i + 1)\n",
    "        else:\n",
    "            P2.append(i + 1)\n",
    "    return (P1, P2)\n",
    "\n",
    "def evaluar_individuo(individuo):\n",
    "    P1, P2 = fenotipo(individuo)\n",
    "    return (abs(sum(P1) - 36) + abs(numpy.prod(P2) - 360),)\n",
    "\n",
    "caja_de_herramientas.register('evaluate', evaluar_individuo)"
   ]
  },
  {
   "cell_type": "code",
   "execution_count": 12,
   "metadata": {
    "autoscroll": "json-false",
    "ein.tags": [
     "worksheet-0"
    ],
    "slideshow": {
     "slide_type": "-"
    }
   },
   "outputs": [
    {
     "data": {
      "text/plain": [
       "([4, 5, 7, 9], [1, 2, 3, 6, 8, 10])"
      ]
     },
     "execution_count": 12,
     "metadata": {},
     "output_type": "execute_result"
    }
   ],
   "source": [
    "fenotipo([1, 1, 1, 0, 0, 1, 0, 1, 0, 1])"
   ]
  },
  {
   "cell_type": "code",
   "execution_count": 13,
   "metadata": {
    "autoscroll": "json-false",
    "ein.tags": [
     "worksheet-0"
    ],
    "slideshow": {
     "slide_type": "-"
    }
   },
   "outputs": [
    {
     "data": {
      "text/plain": [
       "(2531,)"
      ]
     },
     "execution_count": 13,
     "metadata": {},
     "output_type": "execute_result"
    }
   ],
   "source": [
    "caja_de_herramientas.evaluate([1, 1, 1, 0, 0, 1, 0, 1, 0, 1])"
   ]
  },
  {
   "cell_type": "markdown",
   "metadata": {
    "ein.tags": [
     "worksheet-0"
    ],
    "slideshow": {
     "slide_type": "-"
    }
   },
   "source": [
    "Una vez registradas todas las funciones relativas a los individuos, pasamos a registrar los operadores que utilizaremos en el algoritmo genético. El paquete DEAP proporciona implementaciones de muchos operadores habituales (véase http://deap.readthedocs.org/en/1.0.x/api/tools.html#operators), entre ellos el cruce en un punto (función `cxOnePoint` del módulo `tools`) y la mutación de cadenas de bits (función `mutFlipBit` del módulo `tools`). __Los algoritmos genéticos implementados en el paquete DEAP esperan que el operador de cruce esté registrado con el nombre__ `mate` __y el operador de mutación con el nombre__ `mutate`."
   ]
  },
  {
   "cell_type": "code",
   "execution_count": 14,
   "metadata": {
    "autoscroll": "json-false",
    "ein.tags": [
     "worksheet-0"
    ],
    "slideshow": {
     "slide_type": "-"
    }
   },
   "outputs": [],
   "source": [
    "caja_de_herramientas.register('mate', tools.cxOnePoint)\n",
    "caja_de_herramientas.register('mutate', tools.mutFlipBit, indpb=0.1)\n",
    "# indpb es la probabilidad de mutación de cada gen del cromosoma"
   ]
  },
  {
   "cell_type": "code",
   "execution_count": 15,
   "metadata": {
    "autoscroll": "json-false",
    "ein.tags": [
     "worksheet-0"
    ],
    "slideshow": {
     "slide_type": "-"
    }
   },
   "outputs": [
    {
     "data": {
      "text/plain": [
       "([1, 1, 1, 1, 1, 0, 0, 1, 1, 1], [0, 0, 0, 0, 0, 1, 1, 0, 0, 0])"
      ]
     },
     "execution_count": 15,
     "metadata": {},
     "output_type": "execute_result"
    }
   ],
   "source": [
    "random.seed(12345)\n",
    "caja_de_herramientas.mate([1, 1, 1, 1, 1, 0, 0, 0, 0, 0],\n",
    "                          [0, 0, 0, 0, 0, 1, 1, 1, 1, 1])"
   ]
  },
  {
   "cell_type": "code",
   "execution_count": 16,
   "metadata": {
    "autoscroll": "json-false",
    "ein.tags": [
     "worksheet-0"
    ],
    "slideshow": {
     "slide_type": "-"
    }
   },
   "outputs": [
    {
     "data": {
      "text/plain": [
       "([0, 1, 0, 0, 0, 0, 0, 0, 0, 0],)"
      ]
     },
     "execution_count": 16,
     "metadata": {},
     "output_type": "execute_result"
    }
   ],
   "source": [
    "random.seed(12345)\n",
    "caja_de_herramientas.mutate([0, 0, 0, 0, 0, 0, 0, 0, 0, 0])"
   ]
  },
  {
   "cell_type": "markdown",
   "metadata": {
    "ein.tags": [
     "worksheet-0"
    ],
    "slideshow": {
     "slide_type": "-"
    }
   },
   "source": [
    "Finalmente, como método de selección de individuos registramos en la caja de herramientas el método de selección por torneo, en el que para seleccionar un individuo se elige al azar una cierta cantidad de individuos y de entre ellos se selecciona el más apto. Este método está implementado en la función `selTournament` del módulo `tools`. __Los algoritmos genéticos implementados en el paquete DEAP esperan que el método de selección esté registrado con el nombre__ `select`.\n",
    "\n",
    "__Nota__: la función _fitness_ que hemos definido es no negativa y, para transformar este problema de minimización en un problema de maximización, sus valores se ven luego multiplicados por el peso `-1.0` que establecimos en la clase `Fitness`. Por lo tanto, no es posible usar por esta vía el método de selección por ruleta aleatoria, ya que todos los valores con los que se trabaja finalmente son negativos. En caso de querer usar este método, habría que modificar la función _fitness_ como se explicó en el tema y usar `1.0` como peso."
   ]
  },
  {
   "cell_type": "code",
   "execution_count": 17,
   "metadata": {
    "autoscroll": "json-false",
    "ein.tags": [
     "worksheet-0"
    ],
    "slideshow": {
     "slide_type": "-"
    }
   },
   "outputs": [],
   "source": [
    "caja_de_herramientas.register('select', tools.selTournament, tournsize=3)"
   ]
  },
  {
   "cell_type": "code",
   "execution_count": 18,
   "metadata": {
    "autoscroll": "json-false",
    "ein.tags": [
     "worksheet-0"
    ],
    "slideshow": {
     "slide_type": "-"
    }
   },
   "outputs": [
    {
     "data": {
      "text/plain": [
       "[[0, 0, 0, 1, 0, 1, 0, 0, 0, 0],\n",
       " [0, 0, 1, 0, 0, 1, 1, 1, 0, 1],\n",
       " [0, 0, 0, 1, 0, 1, 0, 0, 1, 0],\n",
       " [0, 0, 1, 0, 0, 0, 1, 1, 0, 1],\n",
       " [1, 0, 0, 0, 1, 0, 1, 0, 0, 1]]"
      ]
     },
     "execution_count": 18,
     "metadata": {},
     "output_type": "execute_result"
    }
   ],
   "source": [
    "random.seed(12345)\n",
    "P = caja_de_herramientas.población()\n",
    "caja_de_herramientas.select(P, 5)"
   ]
  },
  {
   "cell_type": "markdown",
   "metadata": {
    "ein.tags": [
     "worksheet-0"
    ],
    "slideshow": {
     "slide_type": "-"
    }
   },
   "source": [
    "Estamos ya en condiciones de resolver el problema planteado mediante un algoritmo genético. Este puede ser uno implementado _ad hoc_ por nosotros, o puede ser uno de los ya implementados en el paquete DEAP (véase http://deap.readthedocs.org/en/1.0.x/api/algo.html)."
   ]
  },
  {
   "cell_type": "markdown",
   "metadata": {
    "ein.tags": [
     "worksheet-0"
    ],
    "slideshow": {
     "slide_type": "-"
    }
   },
   "source": [
    "Por ejemplo, la función `eaSimple` del módulo `algorithms` implementa el siguiente algoritmo genético:\n",
    "1. Evaluar los individuos de la población inicial.\n",
    "2. Repetir para el número de generaciones especificado:\n",
    "  1. Aplicar el procedimiento de selección para reemplazar a la población por completo.\n",
    "  2. Para cada par de individuos $x_{i}$ y $x_{i+1}$, cruzarlos con la probabilidad especificada, siendo reemplazados por sus hijos en caso de que sí se crucen.\n",
    "  3. Para cada individuo, mutarlo con la probabilidad especificada, siendo reemplazado por el nuevo individuo en caso de que sí mute.\n",
    "  4. Evaluar los individuos de la nueva población.\n",
    "\n",
    "__Nota de implementación__: el _fitness_ de los individuos que permanecen de una generación a la siguiente no se reevalúa. El resultado devuelto por el algoritmo es una tupla con la población final y un registro indicando para cada generación a cuántos individuos nuevos ha debido calcularse su _fitness_."
   ]
  },
  {
   "cell_type": "code",
   "execution_count": 19,
   "metadata": {},
   "outputs": [
    {
     "name": "stdout",
     "output_type": "stream",
     "text": [
      "[0, 0, 0, 0, 1, 0, 1, 0, 0, 1] (13,)\n",
      "[1, 0, 0, 0, 0, 1, 1, 0, 0, 1] (65,)\n",
      "[0, 0, 0, 0, 1, 0, 1, 1, 0, 1] (2451,)\n",
      "[0, 0, 0, 0, 1, 0, 1, 0, 0, 1] (13,)\n",
      "[0, 0, 0, 0, 1, 0, 1, 0, 0, 1] (13,)\n",
      "[0, 1, 0, 0, 1, 0, 1, 0, 0, 0] (295,)\n",
      "[0, 0, 0, 0, 1, 0, 1, 0, 0, 1] (13,)\n",
      "[0, 0, 0, 0, 1, 0, 1, 0, 0, 1] (13,)\n",
      "[0, 0, 0, 0, 1, 0, 1, 0, 0, 1] (13,)\n",
      "[1, 0, 0, 1, 1, 1, 1, 0, 0, 1] (8054,)\n",
      "gen\tnevals\n",
      "0  \t10    \n",
      "1  \t8     \n",
      "2  \t8     \n",
      "3  \t6     \n",
      "4  \t5     \n",
      "5  \t8     \n",
      "6  \t5     \n",
      "7  \t7     \n",
      "8  \t7     \n",
      "9  \t4     \n",
      "10 \t8     \n",
      "11 \t5     \n",
      "12 \t8     \n",
      "13 \t8     \n",
      "14 \t5     \n",
      "15 \t8     \n",
      "16 \t6     \n",
      "17 \t5     \n",
      "18 \t4     \n",
      "19 \t4     \n",
      "20 \t7     \n"
     ]
    }
   ],
   "source": [
    "random.seed(12345)\n",
    "población_inicial = caja_de_herramientas.población()\n",
    "población_final, registro = algorithms.eaSimple(población_inicial,\n",
    "                                                caja_de_herramientas,\n",
    "                                                cxpb=0.5,  # Probabilidad de cruzamiento\n",
    "                                                mutpb=0.3,  # Probabilidad de mutación\n",
    "                                                ngen=20,  # Número de generaciones\n",
    "                                                verbose=False)\n",
    "\n",
    "for individuo in población_final:\n",
    "    print(individuo, caja_de_herramientas.evaluate(individuo))\n",
    "\n",
    "print(registro)"
   ]
  },
  {
   "cell_type": "markdown",
   "metadata": {
    "ein.tags": [
     "worksheet-0"
    ],
    "slideshow": {
     "slide_type": "-"
    }
   },
   "source": [
    "Todas las funciones del paquete DEAP que implementan algoritmos genéticos admiten el cálculo de estadísticas y un _salón de la fama_ con los mejores individuos que hayan aparecido a lo largo de la evolución de la población."
   ]
  },
  {
   "cell_type": "code",
   "execution_count": 23,
   "metadata": {
    "autoscroll": "json-false",
    "ein.tags": [
     "worksheet-0"
    ],
    "slideshow": {
     "slide_type": "-"
    }
   },
   "outputs": [],
   "source": [
    "# Estadísticas sobre el fitness de los individuos: mínimo, media y máximo\n",
    "# Nota: usamos para ello las funciones correspondientes de numpy, porque los\n",
    "# valores de fitness están guardados en tuplas\n",
    "estadísticas = tools.Statistics(lambda ind: ind.fitness.values)\n",
    "estadísticas.register(\"mínimo\", numpy.min)\n",
    "estadísticas.register(\"media\", numpy.mean)\n",
    "estadísticas.register(\"máximo\", numpy.max)\n",
    "\n",
    "# Salón de la fama para recopilar los tres mejores individuos de todas las generaciones\n",
    "salón_fama = tools.HallOfFame(3)"
   ]
  },
  {
   "cell_type": "code",
   "execution_count": 21,
   "metadata": {
    "autoscroll": "json-false",
    "ein.tags": [
     "worksheet-0"
    ],
    "slideshow": {
     "slide_type": "-"
    }
   },
   "outputs": [
    {
     "name": "stdout",
     "output_type": "stream",
     "text": [
      "gen\tnevals\tmínimo\tmedia \tmáximo\n",
      "0  \t10    \t4     \t2052.9\t9735  \n",
      "1  \t8     \t14    \t2264.8\t18559 \n",
      "2  \t8     \t13    \t388.6 \t2803  \n",
      "3  \t6     \t13    \t122   \t1048  \n",
      "4  \t5     \t13    \t65.6  \t346   \n",
      "5  \t8     \t13    \t255.2 \t1749  \n",
      "6  \t5     \t13    \t6725.7\t66861 \n",
      "7  \t7     \t13    \t216.8 \t1750  \n",
      "8  \t7     \t13    \t41.1  \t292   \n",
      "9  \t4     \t13    \t152.1 \t1047  \n",
      "10 \t8     \t13    \t251.8 \t1048  \n",
      "11 \t5     \t13    \t79.6  \t346   \n",
      "12 \t8     \t13    \t292   \t2802  \n",
      "13 \t8     \t13    \t81.3  \t696   \n",
      "14 \t5     \t13    \t2844.7\t24858 \n",
      "15 \t8     \t13    \t1750.7\t10855 \n",
      "16 \t6     \t13    \t449.8 \t2451  \n",
      "17 \t5     \t13    \t88.1  \t696   \n",
      "18 \t4     \t13    \t13    \t13    \n",
      "19 \t4     \t13    \t186.6 \t1749  \n",
      "20 \t7     \t13    \t1094.3\t8054  \n"
     ]
    }
   ],
   "source": [
    "random.seed(12345)\n",
    "población_inicial = caja_de_herramientas.población()\n",
    "población, registro = algorithms.eaSimple(población_inicial,\n",
    "                                          caja_de_herramientas,\n",
    "                                          cxpb=0.5, # Probabilidad de que dos individuos contiguos se crucen\n",
    "                                          mutpb=0.3, # Probabilidad de que un individuo mute\n",
    "                                          ngen=20, # Número de generaciones\n",
    "                                          stats=estadísticas,\n",
    "                                          halloffame=salón_fama)\n",
    "#nevals = new members in iteration"
   ]
  },
  {
   "cell_type": "code",
   "execution_count": 22,
   "metadata": {
    "autoscroll": "json-false",
    "ein.tags": [
     "worksheet-0"
    ],
    "slideshow": {
     "slide_type": "-"
    }
   },
   "outputs": [
    {
     "name": "stdout",
     "output_type": "stream",
     "text": [
      "Las tres mejores soluciones encontradas han sido:\n",
      "Individuo: P1=[2, 3, 4, 6, 7, 10], P2=[1, 5, 8, 9]; Fitness: 4.0\n",
      "Individuo: P1=[1, 2, 3, 4, 6, 8, 9], P2=[5, 7, 10]; Fitness: 13.0\n",
      "Individuo: P1=[2, 3, 4, 6, 8, 9], P2=[1, 5, 7, 10]; Fitness: 14.0\n"
     ]
    }
   ],
   "source": [
    "print('Las tres mejores soluciones encontradas han sido:')\n",
    "for individuo in salón_fama:\n",
    "    print('Individuo: P1={1}, P2={2}; Fitness: {0}'.format(\n",
    "        individuo.fitness.values[0], *fenotipo(individuo)))"
   ]
  },
  {
   "cell_type": "markdown",
   "metadata": {
    "ein.tags": [
     "worksheet-0"
    ],
    "slideshow": {
     "slide_type": "-"
    }
   },
   "source": [
    "# El problema de la mochila"
   ]
  },
  {
   "cell_type": "markdown",
   "metadata": {
    "ein.tags": [
     "worksheet-0"
    ],
    "slideshow": {
     "slide_type": "-"
    }
   },
   "source": [
    "El _problema de la mochila_ (_knapsack problem_) es un problema de optimización combinatoria que aparece en procesos de decisión del mundo real en una amplia variedad de campos. El problema se puede enunciar de manera abstracta como sigue:\n",
    "> Dado un conjunto de elementos, cada uno de ellos con un peso y un valor, determinar la cantidad de cada elemento a incluir en una colección de tal manera que el peso total sea menor o igual que un límite dado y el valor total sea lo mayor posible.\n",
    "\n",
    "En esta práctica nos restringiremos al problema de la mochila 0-1, en el que cada elemento solo se puede incluir a lo sumo una vez en la colección. En concreto, consideraremos la instancia que consiste de 1000 elementos, con los pesos y valores recogidos en el fichero `instancia_knapsack.txt`, y con un peso límite de 4816. Para esta instancia la solución óptima tiene un valor de 27147."
   ]
  },
  {
   "cell_type": "markdown",
   "metadata": {
    "ein.tags": [
     "worksheet-0"
    ],
    "slideshow": {
     "slide_type": "-"
    }
   },
   "source": [
    "Los pesos y los valores de los elementos de la instancia se pueden leer del fichero evaluando las siguientes expresiones:"
   ]
  },
  {
   "cell_type": "code",
   "execution_count": 8,
   "metadata": {
    "autoscroll": "json-false",
    "ein.tags": [
     "worksheet-0"
    ],
    "slideshow": {
     "slide_type": "-"
    }
   },
   "outputs": [
    {
     "name": "stdout",
     "output_type": "stream",
     "text": [
      "[94, 506, 416, 992, 649, 237, 457, 815, 446, 422, 791, 359, 667, 598, 7, 544, 334, 766, 994, 893, 633, 131, 428, 700, 617, 874, 720, 419, 794, 196, 997, 116, 908, 539, 707, 569, 537, 931, 726, 487, 772, 513, 81, 943, 58, 303, 764, 536, 724, 789, 479, 142, 339, 641, 196, 494, 66, 824, 208, 711, 800, 314, 289, 401, 466, 689, 833, 225, 244, 849, 113, 379, 361, 65, 486, 686, 286, 889, 24, 491, 891, 90, 181, 214, 17, 472, 418, 419, 356, 682, 306, 201, 385, 952, 500, 194, 737, 324, 992, 224, 260, 97, 210, 649, 919, 63, 958, 804, 518, 428, 537, 346, 153, 971, 662, 197, 91, 529, 126, 747, 469, 770, 934, 723, 895, 568, 172, 958, 383, 308, 970, 583, 48, 930, 569, 3, 20, 609, 887, 825, 930, 904, 241, 379, 376, 962, 889, 443, 216, 338, 160, 406, 159, 31, 204, 420, 153, 425, 331, 565, 838, 9, 918, 533, 232, 957, 591, 576, 746, 377, 858, 86, 434, 558, 279, 840, 735, 574, 126, 912, 739, 821, 625, 917, 201, 993, 149, 52, 759, 267, 256, 783, 117, 516, 180, 25, 380, 712, 266, 216, 448, 541, 664, 954, 726, 772, 531, 943, 750, 327, 917, 5, 113, 913, 791, 998, 859, 345, 431, 675, 833, 438, 523, 916, 420, 115, 660, 261, 772, 388, 764, 843, 206, 407, 639, 852, 542, 60, 757, 82, 637, 93, 614, 136, 187, 102, 972, 163, 501, 477, 492, 121, 80, 138, 660, 229, 827, 448, 230, 832, 489, 586, 291, 665, 660, 702, 153, 606, 123, 253, 709, 832, 108, 888, 481, 283, 858, 284, 711, 850, 239, 943, 195, 95, 410, 664, 900, 112, 963, 754, 458, 19, 225, 569, 97, 194, 754, 602, 61, 695, 347, 719, 100, 97, 843, 745, 286, 492, 116, 531, 424, 253, 426, 413, 980, 291, 833, 486, 9, 575, 922, 145, 897, 404, 742, 728, 269, 103, 745, 35, 779, 71, 80, 842, 128, 941, 227, 30, 342, 605, 531, 364, 359, 867, 820, 313, 207, 911, 308, 430, 685, 641, 113, 141, 690, 700, 559, 481, 503, 766, 7, 882, 859, 182, 425, 542, 683, 853, 938, 89, 624, 181, 878, 933, 580, 252, 207, 658, 20, 954, 347, 759, 446, 14, 657, 710, 980, 188, 636, 203, 432, 129, 630, 509, 237, 373, 838, 395, 692, 103, 218, 384, 931, 396, 389, 640, 287, 297, 977, 512, 219, 555, 398, 289, 798, 598, 49, 572, 697, 770, 725, 542, 214, 887, 45, 94, 282, 82, 319, 626, 146, 541, 874, 725, 777, 554, 208, 787, 976, 912, 444, 3, 301, 164, 437, 652, 764, 41, 737, 176, 136, 128, 394, 235, 42, 824, 684, 979, 568, 367, 52, 642, 335, 126, 130, 583, 129, 752, 167, 856, 640, 770, 431, 195, 448, 701, 952, 880, 168, 79, 961, 472, 217, 709, 147, 296, 909, 764, 251, 878, 753, 570, 253, 666, 931, 433, 810, 678, 123, 212, 66, 206, 750, 64, 466, 337, 510, 796, 175, 437, 938, 848, 561, 718, 948, 649, 569, 663, 582, 843, 202, 702, 579, 725, 803, 340, 156, 832, 602, 234, 688, 184, 978, 413, 633, 585, 606, 963, 350, 242, 539, 739, 267, 165, 177, 720, 802, 644, 82, 798, 197, 173, 81, 235, 112, 103, 268, 879, 643, 106, 122, 444, 262, 691, 997, 446, 171, 549, 281, 211, 112, 408, 730, 363, 89, 605, 938, 168, 705, 47, 400, 215, 114, 51, 881, 549, 679, 328, 250, 203, 481, 752, 707, 82, 63, 660, 21, 287, 219, 500, 820, 95, 44, 748, 678, 276, 478, 663, 594, 757, 947, 448, 570, 313, 981, 795, 552, 389, 280, 864, 636, 512, 892, 184, 947, 614, 625, 149, 377, 474, 18, 662, 416, 1, 530, 752, 22, 981, 777, 957, 275, 584, 582, 121, 951, 668, 118, 319, 896, 521, 948, 248, 474, 351, 54, 155, 660, 871, 486, 294, 425, 245, 382, 371, 708, 544, 794, 387, 738, 520, 281, 502, 91, 503, 924, 16, 33, 344, 349, 606, 896, 595, 441, 102, 52, 654, 710, 434, 245, 36, 661, 413, 13, 370, 400, 195, 984, 476, 164, 405, 674, 196, 608, 907, 532, 51, 716, 327, 880, 710, 267, 400, 376, 609, 320, 196, 538, 935, 404, 100, 126, 855, 94, 731, 253, 8, 393, 543, 348, 318, 489, 22, 998, 49, 381, 10, 429, 221, 150, 717, 530, 332, 942, 565, 216, 61, 170, 872, 644, 208, 680, 697, 639, 679, 961, 361, 802, 359, 839, 718, 280, 252, 280, 102, 615, 296, 481, 956, 230, 259, 922, 706, 272, 156, 552, 485, 536, 70, 902, 452, 35, 947, 378, 57, 352, 669, 702, 141, 458, 463, 756, 887, 332, 528, 656, 254, 787, 495, 370, 10, 200, 327, 17, 374, 755, 980, 376, 8, 32, 460, 804, 23, 869, 943, 715, 628, 73, 199, 38, 209, 327, 912, 799, 372, 976, 120, 667, 188, 28, 704, 649, 746, 697, 712, 289, 625, 953, 462, 302, 79, 41, 823, 908, 665, 36, 732, 809, 66, 291, 591, 583, 252, 479, 530, 224, 788, 309, 366, 352, 402, 545, 113, 967, 454, 723, 14, 20, 308, 644, 713, 482, 336, 289, 496, 326, 530, 167, 522, 830, 91, 116, 747, 395, 958, 756, 262, 703, 511, 481, 449, 888, 599, 306, 492, 803, 445, 316, 889, 785, 765, 491, 589, 124, 741, 898, 725, 682, 131, 398, 906, 753, 312, 790, 301, 945, 447, 197, 27, 573, 589, 934, 209, 529, 899, 15, 592, 92, 575, 814, 354, 127, 374, 566, 594, 973, 645, 603, 712, 32, 298, 561, 906, 626, 143, 504, 836, 361, 431, 554, 24, 416, 735, 243, 454, 932, 494, 648, 357, 596, 788, 536, 759, 200, 566, 741, 217, 219, 832, 819, 487, 473, 241, 64, 516, 857, 218, 490, 504, 707, 342, 475, 175, 786, 171, 232, 888, 866, 976, 253, 619, 642, 460, 218, 218, 667, 949, 89, 488, 568, 526]\n",
      "[403, 886, 814, 1151, 983, 629, 848, 1074, 839, 819, 1062, 762, 994, 950, 111, 914, 737, 1049, 1152, 1110, 973, 474, 824, 1013, 963, 1101, 1024, 816, 1063, 575, 1153, 447, 1117, 910, 1017, 931, 909, 1126, 1027, 871, 1052, 891, 375, 1131, 318, 705, 1048, 908, 1026, 1061, 865, 493, 742, 978, 575, 877, 339, 1078, 592, 1019, 1066, 717, 690, 800, 855, 1006, 1082, 614, 638, 1090, 441, 780, 764, 337, 871, 1005, 687, 1108, 205, 875, 1109, 395, 554, 600, 173, 860, 815, 816, 759, 1002, 708, 582, 786, 1135, 881, 572, 1033, 727, 1151, 613, 657, 410, 594, 983, 1121, 332, 1138, 1068, 895, 824, 909, 749, 511, 1143, 991, 577, 397, 903, 465, 1039, 857, 1051, 1128, 1026, 1111, 930, 540, 1138, 784, 710, 1142, 940, 290, 1126, 931, 73, 188, 958, 1107, 1078, 1126, 1115, 634, 780, 778, 1139, 1108, 836, 602, 741, 522, 805, 520, 233, 586, 817, 511, 821, 734, 928, 1085, 126, 1121, 906, 623, 1137, 946, 936, 1038, 779, 1094, 386, 829, 923, 679, 1086, 1032, 934, 465, 1118, 1034, 1077, 968, 1120, 582, 1151, 504, 302, 1045, 665, 652, 1058, 449, 893, 552, 210, 781, 1020, 664, 602, 840, 911, 992, 1136, 1027, 1052, 904, 1131, 1040, 730, 1120, 94, 441, 1119, 1062, 1153, 1095, 748, 826, 998, 1082, 832, 899, 1120, 817, 445, 989, 658, 1052, 789, 1048, 1087, 589, 806, 976, 1091, 912, 324, 1044, 377, 975, 401, 961, 483, 562, 420, 1143, 527, 882, 864, 875, 456, 373, 486, 989, 619, 1079, 840, 620, 1082, 873, 942, 692, 992, 989, 1014, 511, 956, 460, 649, 1018, 1082, 432, 1108, 867, 683, 1094, 684, 1019, 1090, 632, 1131, 574, 406, 808, 992, 1113, 439, 1140, 1042, 849, 183, 614, 931, 410, 572, 1042, 953, 326, 1010, 750, 1023, 416, 410, 1087, 1038, 687, 875, 447, 904, 820, 649, 822, 811, 1146, 692, 1082, 871, 126, 935, 1123, 498, 1112, 803, 1036, 1028, 667, 422, 1038, 248, 1056, 352, 373, 1087, 469, 1131, 616, 230, 745, 955, 904, 766, 762, 1098, 1076, 716, 590, 1118, 710, 825, 1004, 978, 441, 491, 1007, 1013, 924, 867, 884, 1049, 111, 1105, 1095, 555, 821, 912, 1003, 1092, 1129, 393, 967, 554, 1103, 1127, 938, 647, 590, 988, 188, 1136, 750, 1045, 839, 157, 988, 1018, 1146, 564, 975, 585, 827, 471, 971, 888, 629, 775, 1085, 795, 1008, 422, 605, 785, 1126, 796, 790, 977, 688, 699, 1145, 890, 606, 921, 798, 690, 1065, 950, 293, 933, 1011, 1051, 1027, 912, 600, 1107, 281, 403, 682, 377, 722, 968, 500, 911, 1101, 1027, 1054, 921, 592, 1060, 1145, 1118, 837, 73, 703, 528, 831, 984, 1048, 268, 1033, 546, 483, 469, 794, 627, 271, 1078, 1004, 1146, 930, 769, 302, 978, 738, 465, 472, 940, 471, 1041, 533, 1093, 977, 1051, 826, 574, 840, 1013, 1135, 1104, 534, 371, 1139, 860, 604, 1018, 501, 698, 1117, 1048, 646, 1103, 1042, 932, 649, 993, 1126, 828, 1071, 1000, 460, 597, 339, 589, 1040, 334, 855, 740, 889, 1064, 545, 831, 1129, 1089, 925, 1023, 1133, 983, 931, 991, 940, 1087, 583, 1014, 938, 1027, 1068, 743, 516, 1082, 953, 625, 1006, 558, 1146, 811, 973, 942, 956, 1140, 753, 635, 910, 1034, 665, 530, 548, 1024, 1067, 980, 377, 1065, 577, 542, 375, 627, 439, 422, 666, 1104, 979, 428, 458, 837, 659, 1008, 1153, 839, 539, 917, 681, 596, 439, 807, 1030, 766, 393, 955, 1129, 534, 1016, 287, 800, 601, 443, 299, 1105, 917, 1001, 731, 645, 585, 867, 1041, 1017, 377, 332, 989, 192, 688, 606, 881, 1076, 406, 278, 1039, 1000, 675, 865, 991, 948, 1044, 1133, 840, 932, 716, 1147, 1064, 919, 790, 680, 1097, 975, 890, 1110, 558, 1133, 961, 968, 504, 779, 861, 178, 991, 814, 42, 904, 1041, 197, 1147, 1054, 1137, 674, 941, 940, 456, 1135, 994, 451, 722, 1111, 897, 1133, 643, 861, 754, 307, 514, 989, 1100, 871, 695, 821, 639, 783, 773, 1017, 914, 1063, 788, 1034, 896, 681, 883, 397, 884, 1123, 168, 241, 747, 752, 956, 1111, 948, 835, 420, 302, 986, 1018, 829, 639, 251, 990, 811, 151, 772, 800, 574, 1148, 863, 528, 804, 998, 575, 957, 1116, 905, 299, 1022, 730, 1104, 1018, 665, 800, 778, 958, 723, 575, 909, 1128, 803, 416, 465, 1093, 403, 1030, 649, 119, 793, 913, 751, 721, 873, 197, 1153, 293, 782, 133, 825, 609, 506, 1022, 904, 735, 1131, 928, 602, 326, 537, 1101, 980, 592, 1001, 1011, 976, 1001, 1139, 764, 1067, 762, 1085, 1023, 680, 647, 680, 420, 961, 698, 867, 1137, 620, 656, 1123, 1016, 671, 516, 919, 870, 908, 349, 1114, 844, 248, 1133, 780, 316, 755, 995, 1014, 491, 849, 853, 1044, 1107, 735, 902, 987, 650, 1060, 878, 772, 133, 581, 730, 173, 776, 1043, 1146, 778, 119, 237, 850, 1068, 201, 1099, 1131, 1021, 970, 356, 579, 258, 593, 730, 1118, 1066, 774, 1145, 454, 994, 564, 222, 1015, 983, 1038, 1011, 1020, 690, 968, 1136, 852, 704, 371, 268, 1077, 1117, 992, 251, 1031, 1071, 339, 692, 946, 940, 647, 865, 904, 613, 1060, 711, 768, 755, 801, 914, 441, 1141, 845, 1026, 157, 188, 710, 980, 1020, 868, 739, 690, 878, 729, 904, 533, 898, 1081, 397, 447, 1039, 795, 1138, 1044, 659, 1014, 890, 867, 841, 1108, 951, 708, 875, 1068, 838, 719, 1108, 1059, 1048, 875, 944, 462, 1036, 1112, 1027, 1002, 474, 798, 1116, 1042, 715, 1061, 703, 1132, 840, 577, 218, 934, 944, 1128, 593, 903, 1113, 162, 946, 399, 935, 1073, 757, 467, 776, 929, 948, 1144, 980, 954, 1020, 237, 700, 925, 1116, 968, 495, 884, 1084, 764, 826, 921, 205, 814, 1032, 636, 845, 1127, 877, 982, 760, 949, 1060, 908, 1045, 581, 929, 1036, 604, 606, 1082, 1076, 871, 861, 634, 334, 893, 1094, 605, 874, 884, 1017, 745, 862, 545, 1059, 539, 623, 1108, 1098, 1145, 649, 964, 978, 850, 605, 605, 994, 1134, 393, 872, 930, 901]\n"
     ]
    }
   ],
   "source": [
    "PESOS = []\n",
    "VALORES = []\n",
    "with open('instancia_knapsack.txt', 'r') as fichero:\n",
    "    for línea in fichero:\n",
    "        peso, valor = tuple(línea.split())\n",
    "        PESOS.append(int(peso))\n",
    "        VALORES.append(int(valor))\n",
    "print(PESOS)        \n",
    "print(VALORES)        "
   ]
  },
  {
   "cell_type": "markdown",
   "metadata": {
    "ein.tags": [
     "worksheet-0"
    ],
    "slideshow": {
     "slide_type": "-"
    }
   },
   "source": [
    "__Ejercicio 1__: para resolver un problema de la mochila 0-1 mediante algoritmos genéticos definimos los parámetros necesarios como sigue:\n",
    "* Los genes son 0 y 1.\n",
    "* Los individuos son cromosomas de longitud la cantidad de elementos disponibles.\n",
    "* Cada individuo representa la solución en la que el elemento $i$-ésimo se incluye en la colección si y solo si el gen $i$-ésimo es 1.\n",
    "* La evaluación del fenotipo de cada individuo es la suma de los valores de los elementos incluidos en la colección, salvo que el peso supere el límite establecido, en cuyo caso es $-\\infty$ (penalización por _pena de muerte_).\n",
    "\n",
    "Se pide implementar esta representación en una caja de herramientas que permita realizar las pruebas experimentales que se piden en el ejercicio 5."
   ]
  },
  {
   "cell_type": "code",
   "execution_count": 24,
   "metadata": {},
   "outputs": [
    {
     "name": "stderr",
     "output_type": "stream",
     "text": [
      "/anaconda3/lib/python3.6/site-packages/deap-1.2.2-py3.6.egg/deap/creator.py:141: RuntimeWarning: A class named 'FitnessM' has already been created and it will be overwritten. Consider deleting previous creation of that class or rename it.\n",
      "/anaconda3/lib/python3.6/site-packages/deap-1.2.2-py3.6.egg/deap/creator.py:141: RuntimeWarning: A class named 'IndividuoM' has already been created and it will be overwritten. Consider deleting previous creation of that class or rename it.\n"
     ]
    },
    {
     "name": "stdout",
     "output_type": "stream",
     "text": [
      "gen\tnevals\tmínimo\tmedia \tmáximo\n",
      "0  \t100   \t162   \t808.23\t1151  \n",
      "1  \t70    \t0     \t954.38\t2258  \n",
      "2  \t70    \t-inf  \t-inf  \t7094  \n",
      "3  \t75    \t-inf  \t-inf  \t7362  \n",
      "4  \t61    \t-inf  \t-inf  \t8008  \n",
      "5  \t58    \t-inf  \t-inf  \t8131  \n",
      "6  \t53    \t-inf  \t-inf  \t8008  \n",
      "7  \t69    \t-inf  \t-inf  \t8420  \n",
      "8  \t60    \t-inf  \t-inf  \t8420  \n",
      "9  \t65    \t-inf  \t-inf  \t8420  \n",
      "10 \t65    \t-inf  \t-inf  \t8690  \n",
      "11 \t73    \t-inf  \t-inf  \t8745  \n",
      "12 \t63    \t-inf  \t-inf  \t8745  \n",
      "13 \t68    \t-inf  \t-inf  \t8706  \n",
      "14 \t64    \t-inf  \t-inf  \t9268  \n",
      "15 \t70    \t-inf  \t-inf  \t9212  \n",
      "16 \t70    \t-inf  \t-inf  \t9339  \n",
      "17 \t63    \t-inf  \t-inf  \t9748  \n",
      "18 \t72    \t-inf  \t-inf  \t9861  \n",
      "19 \t45    \t-inf  \t-inf  \t9861  \n",
      "20 \t70    \t-inf  \t-inf  \t9861  \n",
      "21 \t76    \t-inf  \t-inf  \t9861  \n",
      "22 \t62    \t-inf  \t-inf  \t9861  \n",
      "23 \t70    \t-inf  \t-inf  \t9861  \n",
      "24 \t64    \t-inf  \t-inf  \t10297 \n",
      "25 \t73    \t-inf  \t-inf  \t10448 \n",
      "26 \t69    \t-inf  \t-inf  \t10448 \n",
      "27 \t55    \t-inf  \t-inf  \t10448 \n",
      "28 \t54    \t-inf  \t-inf  \t10448 \n",
      "29 \t60    \t-inf  \t-inf  \t10448 \n",
      "30 \t65    \t-inf  \t-inf  \t10448 \n",
      "31 \t66    \t-inf  \t-inf  \t10448 \n",
      "32 \t73    \t-inf  \t-inf  \t10448 \n",
      "33 \t62    \t-inf  \t-inf  \t10448 \n",
      "34 \t72    \t-inf  \t-inf  \t10448 \n",
      "35 \t60    \t-inf  \t-inf  \t10448 \n",
      "36 \t58    \t-inf  \t-inf  \t10448 \n",
      "37 \t66    \t-inf  \t-inf  \t10448 \n",
      "38 \t73    \t-inf  \t-inf  \t10448 \n",
      "39 \t71    \t-inf  \t-inf  \t10448 \n",
      "40 \t57    \t-inf  \t-inf  \t10448 \n",
      "41 \t66    \t-inf  \t-inf  \t10448 \n",
      "42 \t69    \t-inf  \t-inf  \t10448 \n",
      "43 \t70    \t-inf  \t-inf  \t10448 \n",
      "44 \t68    \t-inf  \t-inf  \t10448 \n",
      "45 \t59    \t-inf  \t-inf  \t10448 \n",
      "46 \t52    \t-inf  \t-inf  \t10448 \n",
      "47 \t58    \t-inf  \t-inf  \t10448 \n",
      "48 \t64    \t-inf  \t-inf  \t10448 \n",
      "49 \t55    \t-inf  \t-inf  \t10448 \n",
      "50 \t58    \t-inf  \t-inf  \t10448 \n",
      "51 \t54    \t-inf  \t-inf  \t10448 \n",
      "52 \t62    \t-inf  \t-inf  \t10448 \n",
      "53 \t62    \t-inf  \t-inf  \t10448 \n",
      "54 \t59    \t-inf  \t-inf  \t10448 \n",
      "55 \t70    \t-inf  \t-inf  \t10448 \n",
      "56 \t62    \t-inf  \t-inf  \t10448 \n",
      "57 \t64    \t-inf  \t-inf  \t10448 \n",
      "58 \t65    \t-inf  \t-inf  \t10448 \n",
      "59 \t61    \t-inf  \t-inf  \t10448 \n",
      "60 \t63    \t-inf  \t-inf  \t10448 \n",
      "61 \t66    \t-inf  \t-inf  \t10448 \n",
      "62 \t60    \t-inf  \t-inf  \t10448 \n",
      "63 \t76    \t-inf  \t-inf  \t10448 \n",
      "64 \t62    \t-inf  \t-inf  \t10448 \n",
      "65 \t68    \t-inf  \t-inf  \t10448 \n",
      "66 \t72    \t-inf  \t-inf  \t10448 \n",
      "67 \t66    \t-inf  \t-inf  \t10448 \n",
      "68 \t62    \t-inf  \t-inf  \t10448 \n",
      "69 \t68    \t-inf  \t-inf  \t10448 \n",
      "70 \t70    \t-inf  \t-inf  \t10448 \n",
      "71 \t55    \t-inf  \t-inf  \t10448 \n",
      "72 \t70    \t-inf  \t-inf  \t10448 \n",
      "73 \t66    \t-inf  \t-inf  \t10448 \n",
      "74 \t64    \t-inf  \t-inf  \t10448 \n",
      "75 \t72    \t-inf  \t-inf  \t10683 \n",
      "76 \t64    \t-inf  \t-inf  \t10683 \n",
      "77 \t60    \t-inf  \t-inf  \t10683 \n",
      "78 \t69    \t-inf  \t-inf  \t10683 \n",
      "79 \t63    \t-inf  \t-inf  \t10683 \n",
      "80 \t70    \t-inf  \t-inf  \t10683 \n",
      "81 \t66    \t-inf  \t-inf  \t10683 \n",
      "82 \t71    \t-inf  \t-inf  \t10683 \n",
      "83 \t65    \t-inf  \t-inf  \t10683 \n",
      "84 \t70    \t-inf  \t-inf  \t10683 \n",
      "85 \t74    \t-inf  \t-inf  \t10683 \n",
      "86 \t62    \t-inf  \t-inf  \t10683 \n",
      "87 \t70    \t-inf  \t-inf  \t10683 \n",
      "88 \t64    \t-inf  \t-inf  \t10683 \n",
      "89 \t62    \t-inf  \t-inf  \t10683 \n",
      "90 \t62    \t-inf  \t-inf  \t10683 \n",
      "91 \t60    \t-inf  \t-inf  \t10683 \n",
      "92 \t59    \t-inf  \t-inf  \t10683 \n",
      "93 \t62    \t-inf  \t-inf  \t10683 \n",
      "94 \t65    \t-inf  \t-inf  \t10683 \n",
      "95 \t68    \t-inf  \t-inf  \t10683 \n",
      "96 \t74    \t-inf  \t-inf  \t10683 \n",
      "97 \t59    \t-inf  \t-inf  \t10683 \n",
      "98 \t67    \t-inf  \t-inf  \t10683 \n",
      "99 \t72    \t-inf  \t-inf  \t10683 \n",
      "100\t66    \t-inf  \t-inf  \t10683 \n",
      "101\t60    \t-inf  \t-inf  \t10683 \n",
      "102\t66    \t-inf  \t-inf  \t10683 \n",
      "103\t70    \t-inf  \t-inf  \t10683 \n",
      "104\t69    \t-inf  \t-inf  \t10683 \n",
      "105\t55    \t-inf  \t-inf  \t10683 \n",
      "106\t74    \t-inf  \t-inf  \t10683 \n",
      "107\t75    \t-inf  \t-inf  \t10683 \n",
      "108\t67    \t-inf  \t-inf  \t10683 \n",
      "109\t60    \t-inf  \t-inf  \t10683 \n",
      "110\t53    \t-inf  \t-inf  \t10683 \n",
      "111\t67    \t-inf  \t-inf  \t10683 \n",
      "112\t75    \t-inf  \t-inf  \t10683 \n",
      "113\t66    \t-inf  \t-inf  \t10683 \n",
      "114\t69    \t-inf  \t-inf  \t10683 \n",
      "115\t61    \t-inf  \t-inf  \t10683 \n",
      "116\t74    \t-inf  \t-inf  \t10683 \n",
      "117\t76    \t-inf  \t-inf  \t10683 \n",
      "118\t78    \t-inf  \t-inf  \t10683 \n",
      "119\t55    \t-inf  \t-inf  \t10683 \n",
      "120\t64    \t-inf  \t-inf  \t10683 \n",
      "121\t60    \t-inf  \t-inf  \t10683 \n",
      "122\t73    \t-inf  \t-inf  \t10683 \n",
      "123\t61    \t-inf  \t-inf  \t10683 \n",
      "124\t60    \t-inf  \t-inf  \t10683 \n",
      "125\t64    \t-inf  \t-inf  \t10683 \n",
      "126\t75    \t-inf  \t-inf  \t10683 \n",
      "127\t68    \t-inf  \t-inf  \t10683 \n",
      "128\t56    \t-inf  \t-inf  \t10683 \n",
      "129\t68    \t-inf  \t-inf  \t10683 \n",
      "130\t58    \t-inf  \t-inf  \t10683 \n",
      "131\t66    \t-inf  \t-inf  \t10683 \n",
      "132\t72    \t-inf  \t-inf  \t10683 \n",
      "133\t62    \t-inf  \t-inf  \t10683 \n",
      "134\t53    \t-inf  \t-inf  \t10683 \n",
      "135\t71    \t-inf  \t-inf  \t10683 \n",
      "136\t66    \t-inf  \t-inf  \t10683 \n",
      "137\t68    \t-inf  \t-inf  \t10683 \n",
      "138\t69    \t-inf  \t-inf  \t10683 \n",
      "139\t80    \t-inf  \t-inf  \t10683 \n",
      "140\t58    \t-inf  \t-inf  \t10683 \n",
      "141\t64    \t-inf  \t-inf  \t10683 \n",
      "142\t57    \t-inf  \t-inf  \t10683 \n",
      "143\t67    \t-inf  \t-inf  \t10683 \n",
      "144\t60    \t-inf  \t-inf  \t10683 \n",
      "145\t60    \t-inf  \t-inf  \t10683 \n",
      "146\t64    \t-inf  \t-inf  \t10683 \n",
      "147\t70    \t-inf  \t-inf  \t10683 \n",
      "148\t62    \t-inf  \t-inf  \t10683 \n",
      "149\t62    \t-inf  \t-inf  \t10683 \n",
      "150\t68    \t-inf  \t-inf  \t10683 \n",
      "151\t69    \t-inf  \t-inf  \t10683 \n",
      "152\t66    \t-inf  \t-inf  \t10683 \n",
      "153\t60    \t-inf  \t-inf  \t10683 \n",
      "154\t66    \t-inf  \t-inf  \t10683 \n",
      "155\t62    \t-inf  \t-inf  \t10683 \n",
      "156\t59    \t-inf  \t-inf  \t10683 \n",
      "157\t69    \t-inf  \t-inf  \t10683 \n",
      "158\t61    \t-inf  \t-inf  \t10879 \n",
      "159\t59    \t-inf  \t-inf  \t10879 \n",
      "160\t67    \t-inf  \t-inf  \t10879 \n",
      "161\t70    \t-inf  \t-inf  \t10879 \n",
      "162\t75    \t-inf  \t-inf  \t10879 \n",
      "163\t56    \t-inf  \t-inf  \t10879 \n",
      "164\t63    \t-inf  \t-inf  \t10879 \n",
      "165\t64    \t-inf  \t-inf  \t10879 \n",
      "166\t71    \t-inf  \t-inf  \t10879 \n",
      "167\t53    \t-inf  \t-inf  \t10879 \n",
      "168\t56    \t-inf  \t-inf  \t10879 \n",
      "169\t63    \t-inf  \t-inf  \t10879 \n",
      "170\t71    \t-inf  \t-inf  \t10879 \n",
      "171\t67    \t-inf  \t-inf  \t10879 \n",
      "172\t68    \t-inf  \t-inf  \t10879 \n",
      "173\t68    \t-inf  \t-inf  \t10879 \n",
      "174\t64    \t-inf  \t-inf  \t10879 \n",
      "175\t75    \t-inf  \t-inf  \t10879 \n",
      "176\t72    \t-inf  \t-inf  \t10879 \n",
      "177\t67    \t-inf  \t-inf  \t10879 \n",
      "178\t60    \t-inf  \t-inf  \t10879 \n",
      "179\t68    \t-inf  \t-inf  \t10879 \n",
      "180\t59    \t-inf  \t-inf  \t10879 \n",
      "181\t72    \t-inf  \t-inf  \t10879 \n",
      "182\t70    \t-inf  \t-inf  \t10879 \n",
      "183\t53    \t-inf  \t-inf  \t10879 \n",
      "184\t65    \t-inf  \t-inf  \t10879 \n",
      "185\t61    \t-inf  \t-inf  \t10879 \n",
      "186\t71    \t-inf  \t-inf  \t10879 \n",
      "187\t66    \t-inf  \t-inf  \t10879 \n",
      "188\t69    \t-inf  \t-inf  \t10879 \n",
      "189\t67    \t-inf  \t-inf  \t10879 \n",
      "190\t64    \t-inf  \t-inf  \t10879 \n",
      "191\t64    \t-inf  \t-inf  \t10879 \n",
      "192\t59    \t-inf  \t-inf  \t10879 \n",
      "193\t53    \t-inf  \t-inf  \t10879 \n",
      "194\t59    \t-inf  \t-inf  \t10879 \n",
      "195\t65    \t-inf  \t-inf  \t10879 \n",
      "196\t52    \t-inf  \t-inf  \t10879 \n",
      "197\t61    \t-inf  \t-inf  \t10879 \n",
      "198\t62    \t-inf  \t-inf  \t10879 \n",
      "199\t74    \t-inf  \t-inf  \t10879 \n",
      "200\t72    \t-inf  \t-inf  \t10879 \n",
      "201\t68    \t-inf  \t-inf  \t10879 \n",
      "202\t67    \t-inf  \t-inf  \t10879 \n",
      "203\t65    \t-inf  \t-inf  \t10879 \n",
      "204\t61    \t-inf  \t-inf  \t10879 \n",
      "205\t63    \t-inf  \t-inf  \t10879 \n",
      "206\t53    \t-inf  \t-inf  \t10879 \n",
      "207\t69    \t-inf  \t-inf  \t10879 \n",
      "208\t64    \t-inf  \t-inf  \t10879 \n",
      "209\t73    \t-inf  \t-inf  \t10879 \n",
      "210\t69    \t-inf  \t-inf  \t10879 \n",
      "211\t65    \t-inf  \t-inf  \t10879 \n",
      "212\t72    \t-inf  \t-inf  \t10879 \n",
      "213\t60    \t-inf  \t-inf  \t10879 \n",
      "214\t68    \t-inf  \t-inf  \t10879 \n",
      "215\t72    \t-inf  \t-inf  \t10879 \n",
      "216\t55    \t-inf  \t-inf  \t10879 \n",
      "217\t63    \t-inf  \t-inf  \t10879 \n",
      "218\t59    \t-inf  \t-inf  \t10879 \n",
      "219\t72    \t-inf  \t-inf  \t10879 \n",
      "220\t66    \t-inf  \t-inf  \t10879 \n",
      "221\t72    \t-inf  \t-inf  \t10879 \n",
      "222\t62    \t-inf  \t-inf  \t10879 \n",
      "223\t62    \t-inf  \t-inf  \t10879 \n",
      "224\t57    \t-inf  \t-inf  \t10879 \n",
      "225\t73    \t-inf  \t-inf  \t10879 \n",
      "226\t66    \t-inf  \t-inf  \t10879 \n",
      "227\t47    \t-inf  \t-inf  \t10879 \n",
      "228\t63    \t-inf  \t-inf  \t10879 \n",
      "229\t75    \t-inf  \t-inf  \t10879 \n",
      "230\t62    \t-inf  \t-inf  \t10879 \n",
      "231\t63    \t-inf  \t-inf  \t10879 \n",
      "232\t61    \t-inf  \t-inf  \t10879 \n",
      "233\t70    \t-inf  \t-inf  \t10879 \n",
      "234\t59    \t-inf  \t-inf  \t10879 \n",
      "235\t70    \t-inf  \t-inf  \t10879 \n",
      "236\t71    \t-inf  \t-inf  \t10879 \n",
      "237\t62    \t-inf  \t-inf  \t10879 \n",
      "238\t51    \t-inf  \t-inf  \t11353 \n",
      "239\t58    \t-inf  \t-inf  \t10879 \n",
      "240\t74    \t-inf  \t-inf  \t10879 \n",
      "241\t76    \t-inf  \t-inf  \t10879 \n",
      "242\t63    \t-inf  \t-inf  \t10879 \n",
      "243\t71    \t-inf  \t-inf  \t10879 \n",
      "244\t62    \t-inf  \t-inf  \t10879 \n",
      "245\t77    \t-inf  \t-inf  \t10879 \n",
      "246\t67    \t-inf  \t-inf  \t10879 \n",
      "247\t58    \t-inf  \t-inf  \t10879 \n",
      "248\t66    \t-inf  \t-inf  \t10879 \n",
      "249\t69    \t-inf  \t-inf  \t10879 \n",
      "250\t58    \t-inf  \t-inf  \t10879 \n",
      "251\t67    \t-inf  \t-inf  \t10879 \n",
      "252\t71    \t-inf  \t-inf  \t10879 \n",
      "253\t60    \t-inf  \t-inf  \t10879 \n",
      "254\t60    \t-inf  \t-inf  \t10879 \n",
      "255\t63    \t-inf  \t-inf  \t10879 \n",
      "256\t65    \t-inf  \t-inf  \t10879 \n",
      "257\t64    \t-inf  \t-inf  \t10879 \n"
     ]
    },
    {
     "name": "stdout",
     "output_type": "stream",
     "text": [
      "258\t71    \t-inf  \t-inf  \t10879 \n",
      "259\t65    \t-inf  \t-inf  \t10879 \n",
      "260\t63    \t-inf  \t-inf  \t10879 \n",
      "261\t72    \t-inf  \t-inf  \t10879 \n",
      "262\t58    \t-inf  \t-inf  \t10879 \n",
      "263\t68    \t-inf  \t-inf  \t10879 \n",
      "264\t60    \t-inf  \t-inf  \t10879 \n",
      "265\t61    \t-inf  \t-inf  \t10879 \n",
      "266\t72    \t-inf  \t-inf  \t10879 \n",
      "267\t57    \t-inf  \t-inf  \t10879 \n",
      "268\t76    \t-inf  \t-inf  \t10879 \n",
      "269\t75    \t-inf  \t-inf  \t10879 \n",
      "270\t60    \t-inf  \t-inf  \t10879 \n",
      "271\t67    \t-inf  \t-inf  \t10879 \n",
      "272\t64    \t-inf  \t-inf  \t10879 \n",
      "273\t76    \t-inf  \t-inf  \t10879 \n",
      "274\t68    \t-inf  \t-inf  \t10879 \n",
      "275\t63    \t-inf  \t-inf  \t10879 \n",
      "276\t61    \t-inf  \t-inf  \t10879 \n",
      "277\t75    \t-inf  \t-inf  \t10879 \n",
      "278\t67    \t-inf  \t-inf  \t10879 \n",
      "279\t59    \t-inf  \t-inf  \t10879 \n",
      "280\t55    \t-inf  \t-inf  \t10879 \n",
      "281\t60    \t-inf  \t-inf  \t10879 \n",
      "282\t68    \t-inf  \t-inf  \t10879 \n",
      "283\t52    \t-inf  \t-inf  \t10879 \n",
      "284\t62    \t-inf  \t-inf  \t10879 \n",
      "285\t68    \t-inf  \t-inf  \t10879 \n",
      "286\t65    \t-inf  \t-inf  \t10879 \n",
      "287\t58    \t-inf  \t-inf  \t10879 \n",
      "288\t70    \t-inf  \t-inf  \t10879 \n",
      "289\t71    \t-inf  \t-inf  \t10879 \n",
      "290\t58    \t-inf  \t-inf  \t10879 \n",
      "291\t70    \t-inf  \t-inf  \t10879 \n",
      "292\t66    \t-inf  \t-inf  \t10879 \n",
      "293\t58    \t-inf  \t-inf  \t10879 \n",
      "294\t50    \t-inf  \t-inf  \t10879 \n",
      "295\t59    \t-inf  \t-inf  \t10879 \n",
      "296\t67    \t-inf  \t-inf  \t10879 \n",
      "297\t58    \t-inf  \t-inf  \t10879 \n",
      "298\t63    \t-inf  \t-inf  \t10879 \n",
      "299\t68    \t-inf  \t-inf  \t10879 \n",
      "300\t69    \t-inf  \t-inf  \t10879 \n",
      "301\t67    \t-inf  \t-inf  \t10879 \n",
      "302\t70    \t-inf  \t-inf  \t10879 \n",
      "303\t61    \t-inf  \t-inf  \t10879 \n",
      "304\t71    \t-inf  \t-inf  \t10879 \n",
      "305\t70    \t-inf  \t-inf  \t10879 \n",
      "306\t63    \t-inf  \t-inf  \t10879 \n",
      "307\t65    \t-inf  \t-inf  \t10879 \n",
      "308\t73    \t-inf  \t-inf  \t10879 \n",
      "309\t70    \t-inf  \t-inf  \t10879 \n",
      "310\t66    \t-inf  \t-inf  \t10879 \n",
      "311\t73    \t-inf  \t-inf  \t10879 \n",
      "312\t64    \t-inf  \t-inf  \t10879 \n",
      "313\t73    \t-inf  \t-inf  \t10879 \n",
      "314\t70    \t-inf  \t-inf  \t10879 \n",
      "315\t66    \t-inf  \t-inf  \t10879 \n",
      "316\t78    \t-inf  \t-inf  \t10879 \n",
      "317\t65    \t-inf  \t-inf  \t10879 \n",
      "318\t69    \t-inf  \t-inf  \t10879 \n",
      "319\t76    \t-inf  \t-inf  \t10879 \n",
      "320\t72    \t-inf  \t-inf  \t10879 \n",
      "321\t64    \t-inf  \t-inf  \t10879 \n",
      "322\t59    \t-inf  \t-inf  \t10879 \n",
      "323\t55    \t-inf  \t-inf  \t10879 \n",
      "324\t50    \t-inf  \t-inf  \t10879 \n",
      "325\t69    \t-inf  \t-inf  \t10879 \n",
      "326\t60    \t-inf  \t-inf  \t10879 \n",
      "327\t71    \t-inf  \t-inf  \t10879 \n",
      "328\t69    \t-inf  \t-inf  \t10879 \n",
      "329\t62    \t-inf  \t-inf  \t10879 \n",
      "330\t68    \t-inf  \t-inf  \t10879 \n",
      "331\t67    \t-inf  \t-inf  \t10879 \n",
      "332\t72    \t-inf  \t-inf  \t10879 \n",
      "333\t52    \t-inf  \t-inf  \t10879 \n",
      "334\t67    \t-inf  \t-inf  \t10879 \n",
      "335\t67    \t-inf  \t-inf  \t10879 \n",
      "336\t62    \t-inf  \t-inf  \t10879 \n",
      "337\t75    \t-inf  \t-inf  \t10879 \n",
      "338\t76    \t-inf  \t-inf  \t10879 \n",
      "339\t71    \t-inf  \t-inf  \t10879 \n",
      "340\t70    \t-inf  \t-inf  \t10879 \n",
      "341\t59    \t-inf  \t-inf  \t10879 \n",
      "342\t67    \t-inf  \t-inf  \t10879 \n",
      "343\t64    \t-inf  \t-inf  \t10879 \n",
      "344\t51    \t-inf  \t-inf  \t10879 \n",
      "345\t62    \t-inf  \t-inf  \t10879 \n",
      "346\t50    \t-inf  \t-inf  \t10879 \n",
      "347\t59    \t-inf  \t-inf  \t10879 \n",
      "348\t64    \t-inf  \t-inf  \t10879 \n",
      "349\t59    \t-inf  \t-inf  \t10879 \n",
      "350\t59    \t-inf  \t-inf  \t10879 \n",
      "351\t59    \t-inf  \t-inf  \t10879 \n",
      "352\t72    \t-inf  \t-inf  \t10879 \n",
      "353\t55    \t-inf  \t-inf  \t10879 \n",
      "354\t69    \t-inf  \t-inf  \t10879 \n",
      "355\t62    \t-inf  \t-inf  \t10879 \n",
      "356\t71    \t-inf  \t-inf  \t10879 \n",
      "357\t69    \t-inf  \t-inf  \t10879 \n",
      "358\t79    \t-inf  \t-inf  \t10879 \n",
      "359\t60    \t-inf  \t-inf  \t10879 \n",
      "360\t64    \t-inf  \t-inf  \t10879 \n",
      "361\t56    \t-inf  \t-inf  \t10879 \n",
      "362\t57    \t-inf  \t-inf  \t10879 \n",
      "363\t62    \t-inf  \t-inf  \t10879 \n",
      "364\t70    \t-inf  \t-inf  \t10879 \n",
      "365\t72    \t-inf  \t-inf  \t10879 \n",
      "366\t67    \t-inf  \t-inf  \t10879 \n",
      "367\t72    \t-inf  \t-inf  \t10879 \n",
      "368\t68    \t-inf  \t-inf  \t10879 \n",
      "369\t66    \t-inf  \t-inf  \t10879 \n",
      "370\t58    \t-inf  \t-inf  \t10879 \n",
      "371\t67    \t-inf  \t-inf  \t10879 \n",
      "372\t60    \t-inf  \t-inf  \t10879 \n",
      "373\t59    \t-inf  \t-inf  \t10879 \n",
      "374\t67    \t-inf  \t-inf  \t10879 \n",
      "375\t59    \t-inf  \t-inf  \t10879 \n",
      "376\t66    \t-inf  \t-inf  \t10879 \n",
      "377\t67    \t-inf  \t-inf  \t10879 \n",
      "378\t69    \t-inf  \t-inf  \t10879 \n",
      "379\t63    \t-inf  \t-inf  \t10879 \n",
      "380\t76    \t-inf  \t-inf  \t10879 \n",
      "381\t72    \t-inf  \t-inf  \t10879 \n",
      "382\t60    \t-inf  \t-inf  \t10879 \n",
      "383\t65    \t-inf  \t-inf  \t10879 \n",
      "384\t63    \t-inf  \t-inf  \t10879 \n",
      "385\t59    \t-inf  \t-inf  \t10879 \n",
      "386\t71    \t-inf  \t-inf  \t10879 \n",
      "387\t63    \t-inf  \t-inf  \t10879 \n",
      "388\t67    \t-inf  \t-inf  \t10879 \n",
      "389\t75    \t-inf  \t-inf  \t10879 \n",
      "390\t68    \t-inf  \t-inf  \t10879 \n",
      "391\t56    \t-inf  \t-inf  \t10879 \n",
      "392\t57    \t-inf  \t-inf  \t10879 \n",
      "393\t57    \t-inf  \t-inf  \t10879 \n",
      "394\t63    \t-inf  \t-inf  \t10879 \n",
      "395\t61    \t-inf  \t-inf  \t10879 \n",
      "396\t64    \t-inf  \t-inf  \t10879 \n",
      "397\t63    \t-inf  \t-inf  \t10879 \n",
      "398\t68    \t-inf  \t-inf  \t10879 \n",
      "399\t67    \t-inf  \t-inf  \t10879 \n",
      "400\t59    \t-inf  \t-inf  \t10879 \n",
      "401\t64    \t-inf  \t-inf  \t10879 \n",
      "402\t65    \t-inf  \t-inf  \t10879 \n",
      "403\t68    \t-inf  \t-inf  \t10879 \n",
      "404\t57    \t-inf  \t-inf  \t10879 \n",
      "405\t58    \t-inf  \t-inf  \t10879 \n",
      "406\t64    \t-inf  \t-inf  \t10879 \n",
      "407\t71    \t-inf  \t-inf  \t10879 \n",
      "408\t66    \t-inf  \t-inf  \t10879 \n",
      "409\t61    \t-inf  \t-inf  \t10879 \n",
      "410\t64    \t-inf  \t-inf  \t10879 \n",
      "411\t66    \t-inf  \t-inf  \t10879 \n",
      "412\t61    \t-inf  \t-inf  \t10879 \n",
      "413\t64    \t-inf  \t-inf  \t10879 \n",
      "414\t65    \t-inf  \t-inf  \t10879 \n",
      "415\t65    \t-inf  \t-inf  \t10879 \n",
      "416\t67    \t-inf  \t-inf  \t10879 \n",
      "417\t63    \t-inf  \t-inf  \t10879 \n",
      "418\t75    \t-inf  \t-inf  \t10879 \n",
      "419\t62    \t-inf  \t-inf  \t10879 \n",
      "420\t64    \t-inf  \t-inf  \t10879 \n",
      "421\t68    \t-inf  \t-inf  \t10879 \n",
      "422\t57    \t-inf  \t-inf  \t10879 \n",
      "423\t53    \t-inf  \t-inf  \t10879 \n",
      "424\t66    \t-inf  \t-inf  \t10879 \n",
      "425\t66    \t-inf  \t-inf  \t10879 \n",
      "426\t63    \t-inf  \t-inf  \t10879 \n",
      "427\t57    \t-inf  \t-inf  \t10879 \n",
      "428\t79    \t-inf  \t-inf  \t10879 \n",
      "429\t53    \t-inf  \t-inf  \t10879 \n",
      "430\t67    \t-inf  \t-inf  \t10879 \n",
      "431\t63    \t-inf  \t-inf  \t10879 \n",
      "432\t65    \t-inf  \t-inf  \t10879 \n",
      "433\t69    \t-inf  \t-inf  \t10879 \n",
      "434\t62    \t-inf  \t-inf  \t10879 \n",
      "435\t62    \t-inf  \t-inf  \t10879 \n",
      "436\t69    \t-inf  \t-inf  \t10879 \n",
      "437\t69    \t-inf  \t-inf  \t10879 \n",
      "438\t69    \t-inf  \t-inf  \t10879 \n",
      "439\t52    \t-inf  \t-inf  \t10879 \n",
      "440\t73    \t-inf  \t-inf  \t10879 \n",
      "441\t66    \t-inf  \t-inf  \t10879 \n",
      "442\t74    \t-inf  \t-inf  \t10879 \n",
      "443\t66    \t-inf  \t-inf  \t10879 \n",
      "444\t61    \t-inf  \t-inf  \t10879 \n",
      "445\t67    \t-inf  \t-inf  \t10879 \n",
      "446\t64    \t-inf  \t-inf  \t10879 \n",
      "447\t69    \t-inf  \t-inf  \t10879 \n",
      "448\t65    \t-inf  \t-inf  \t10879 \n",
      "449\t74    \t-inf  \t-inf  \t10879 \n",
      "450\t68    \t-inf  \t-inf  \t10879 \n",
      "451\t59    \t-inf  \t-inf  \t10879 \n",
      "452\t64    \t-inf  \t-inf  \t10879 \n",
      "453\t52    \t-inf  \t-inf  \t10879 \n",
      "454\t63    \t-inf  \t-inf  \t10879 \n",
      "455\t69    \t-inf  \t-inf  \t10879 \n",
      "456\t53    \t-inf  \t-inf  \t10879 \n",
      "457\t58    \t-inf  \t-inf  \t10879 \n",
      "458\t66    \t-inf  \t-inf  \t10879 \n",
      "459\t59    \t-inf  \t-inf  \t11112 \n",
      "460\t66    \t-inf  \t-inf  \t11112 \n",
      "461\t58    \t-inf  \t-inf  \t11112 \n",
      "462\t60    \t-inf  \t-inf  \t11112 \n",
      "463\t63    \t-inf  \t-inf  \t11112 \n",
      "464\t67    \t-inf  \t-inf  \t11112 \n",
      "465\t59    \t-inf  \t-inf  \t11112 \n",
      "466\t64    \t-inf  \t-inf  \t11112 \n",
      "467\t72    \t-inf  \t-inf  \t11112 \n",
      "468\t56    \t-inf  \t-inf  \t11112 \n",
      "469\t63    \t-inf  \t-inf  \t11112 \n",
      "470\t71    \t-inf  \t-inf  \t11112 \n",
      "471\t72    \t-inf  \t-inf  \t11112 \n",
      "472\t67    \t-inf  \t-inf  \t11112 \n",
      "473\t69    \t-inf  \t-inf  \t11112 \n",
      "474\t59    \t-inf  \t-inf  \t11112 \n",
      "475\t68    \t-inf  \t-inf  \t11112 \n",
      "476\t68    \t-inf  \t-inf  \t11112 \n",
      "477\t60    \t-inf  \t-inf  \t11112 \n",
      "478\t66    \t-inf  \t-inf  \t11112 \n",
      "479\t76    \t-inf  \t-inf  \t11112 \n",
      "480\t70    \t-inf  \t-inf  \t11112 \n",
      "481\t69    \t-inf  \t-inf  \t11112 \n",
      "482\t66    \t-inf  \t-inf  \t11112 \n",
      "483\t65    \t-inf  \t-inf  \t11112 \n",
      "484\t67    \t-inf  \t-inf  \t11112 \n",
      "485\t51    \t-inf  \t-inf  \t11112 \n",
      "486\t65    \t-inf  \t-inf  \t11112 \n",
      "487\t58    \t-inf  \t-inf  \t11112 \n",
      "488\t62    \t-inf  \t-inf  \t11112 \n",
      "489\t69    \t-inf  \t-inf  \t11112 \n",
      "490\t60    \t-inf  \t-inf  \t11112 \n",
      "491\t70    \t-inf  \t-inf  \t11112 \n",
      "492\t51    \t-inf  \t-inf  \t11112 \n",
      "493\t69    \t-inf  \t-inf  \t11112 \n",
      "494\t65    \t-inf  \t-inf  \t11112 \n",
      "495\t69    \t-inf  \t-inf  \t11112 \n",
      "496\t65    \t-inf  \t-inf  \t11112 \n",
      "497\t64    \t-inf  \t-inf  \t11112 \n",
      "498\t57    \t-inf  \t-inf  \t11112 \n",
      "499\t62    \t-inf  \t-inf  \t11112 \n",
      "500\t67    \t-inf  \t-inf  \t11112 \n",
      "Las tres mejores soluciones encontradas han sido:\n",
      "Individuo con fitness: 11353.0\n",
      "Individuo con fitness: 11112.0\n",
      "Individuo con fitness: 11112.0\n"
     ]
    }
   ],
   "source": [
    "import random\n",
    "from deap import base, creator, tools, algorithms\n",
    "import numpy\n",
    "import math\n",
    "\n",
    "creator.create('FitnessM', base.Fitness, weights=(1.0,))\n",
    "creator.create('IndividuoM', list, fitness = creator.FitnessM)\n",
    "toolbox1 = base.Toolbox()\n",
    "\n",
    "#     FOR 0,1 REPRESENTATION,RANDOMINT\n",
    "#toolbox1.register('gen', random.randint,0,1)\n",
    "#toolbox1.register('individuo', tools.initRepeat,\n",
    "#                 container=creator.IndividuoM, func=toolbox1.gen, n=1000)\n",
    "#toolbox1.register('población', tools.initRepeat,\n",
    "#                 container=list, func=toolbox1.individuo, n=10)\n",
    "\n",
    "\n",
    "#     FOR INDEX REPRESENTATION,PERMUTATION\n",
    "toolbox1.register(\"indices\", random.sample, range(1000), 1000)\n",
    "toolbox1.register(\"individual\", tools.initIterate, creator.IndividuoM,\n",
    "                 toolbox1.indices)\n",
    "toolbox1.register('población2', tools.initRepeat,\n",
    "                  container=list, func=toolbox1.individual, n=100)\n",
    "\n",
    "def evaluacion1(individuo):\n",
    "    valor = sum([VALORES[i] for i in range(1000) if individuo[i]==1])\n",
    "    peso = sum([PESOS[i] for i in range (1000) if individuo[i]==1])\n",
    "    if peso>4816:\n",
    "        return (-math.inf,)\n",
    "    else:\n",
    "        return (valor,)\n",
    "\n",
    "evaluacion1(toolbox1.individual())\n",
    "\n",
    "toolbox1.register('evaluate', evaluacion1)\n",
    "\n",
    "toolbox1.register('mate', tools.cxOnePoint)\n",
    "toolbox1.register('mutate', tools.mutFlipBit, indpb=0.1)\n",
    "toolbox1.register('select', tools.selTournament, tournsize=3) #Best option with this config\n",
    "#toolbox1.register('select', tools.selLexicase)\n",
    "\n",
    "estadísticas1 = tools.Statistics(lambda ind: ind.fitness.values)\n",
    "estadísticas1.register(\"mínimo\", numpy.min)\n",
    "estadísticas1.register(\"media\", numpy.mean)\n",
    "estadísticas1.register(\"máximo\", numpy.max)\n",
    "\n",
    "salón_fama1 = tools.HallOfFame(3)\n",
    "\n",
    "random.seed(12345)\n",
    "población, registro = algorithms.eaSimple(toolbox1.población2(),\n",
    "                                          toolbox1,\n",
    "                                          cxpb=0.5, # Probabilidad de que dos individuos contiguos se crucen\n",
    "                                          mutpb=0.3, # Probabilidad de que un individuo mute\n",
    "                                          ngen=500, # Número de generaciones\n",
    "                                          stats=estadísticas1,\n",
    "                                          halloffame=salón_fama1)\n",
    "\n",
    "print('Las tres mejores soluciones encontradas han sido:')\n",
    "for individuo in salón_fama1:\n",
    "    print('Individuo con fitness: {0}'.format(individuo.fitness.values[0]))"
   ]
  },
  {
   "cell_type": "markdown",
   "metadata": {
    "ein.tags": [
     "worksheet-0"
    ],
    "slideshow": {
     "slide_type": "-"
    }
   },
   "source": [
    "__Ejercicio 2__: para resolver un problema de la mochila 0-1 mediante algoritmos genéticos definimos los parámetros necesarios como sigue:\n",
    "* Los genes son 0 y 1.\n",
    "* Los individuos son cromosomas de longitud la cantidad de elementos disponibles.\n",
    "* Cada individuo representa la solución en la que el elemento $i$-ésimo se incluye en la colección si y solo si el gen $i$-ésimo es 1.\n",
    "* La evaluación del fenotipo de cada individuo es la suma de los valores de los elementos incluidos en la colección, salvo que el peso supere el límite establecido, en cuyo caso se le resta como penalización la cantidad en la que supera ese límite, multiplicada opcionalmente por un $w$ prefijado de antemano.\n",
    "\n",
    "Se pide implementar esta representación en una caja de herramientas que permita realizar las pruebas experimentales que se piden en el ejercicio 5."
   ]
  },
  {
   "cell_type": "code",
   "execution_count": null,
   "metadata": {
    "autoscroll": "json-false",
    "collapsed": true,
    "ein.tags": [
     "worksheet-0"
    ],
    "slideshow": {
     "slide_type": "-"
    }
   },
   "outputs": [],
   "source": []
  },
  {
   "cell_type": "markdown",
   "metadata": {
    "ein.tags": [
     "worksheet-0"
    ],
    "slideshow": {
     "slide_type": "-"
    }
   },
   "source": [
    "__Ejercicio 3__: para resolver un problema de la mochila 0-1 mediante algoritmos genéticos definimos los parámetros necesarios como sigue:\n",
    "* Los genes son 0 y 1.\n",
    "* Los individuos son cromosomas de longitud la cantidad de elementos disponibles.\n",
    "* Cada individuo representa la solución en la que se van considerando en orden los elementos, de tal forma que el elemento $i$-ésimo se incluye en la colección si y solo si el gen $i$-esimo es 1 y no se supera el peso límite.\n",
    "* La evaluación del fenotipo de cada individuo es la suma de los valores de los elementos incluidos en la colección.\n",
    "\n",
    "Se pide implementar esta representación en una caja de herramientas que permita realizar las pruebas experimentales que se piden en el ejercicio 5."
   ]
  },
  {
   "cell_type": "code",
   "execution_count": null,
   "metadata": {
    "collapsed": true
   },
   "outputs": [],
   "source": []
  },
  {
   "cell_type": "markdown",
   "metadata": {
    "ein.tags": [
     "worksheet-0"
    ],
    "slideshow": {
     "slide_type": "-"
    }
   },
   "source": [
    "__Ejercicio 4__: para resolver un problema de la mochila 0-1 mediante algoritmos genéticos definimos los parámetros necesarios como sigue:\n",
    "* Los genes son los elementos disponibles.\n",
    "* Los individuos son permutaciones de los genes.\n",
    "* Cada individuo representa la solución en la que se van considerando en orden los genes, de tal forma que el elemento representado por el gen se incluye en la colección si no se supera el peso límite.\n",
    "* La evaluación del fenotipo de cada individuo es la suma de los valores de los elementos incluidos en la colección.\n",
    "\n",
    "Se pide implementar esta representación en una caja de herramientas que permita realizar las pruebas experimentales que se piden en el ejercicio 5."
   ]
  },
  {
   "cell_type": "code",
   "execution_count": null,
   "metadata": {
    "collapsed": true
   },
   "outputs": [],
   "source": []
  },
  {
   "cell_type": "markdown",
   "metadata": {
    "ein.tags": [
     "worksheet-0"
    ],
    "slideshow": {
     "slide_type": "-"
    }
   },
   "source": [
    "__Ejercicio 5__: realizar pruebas experimentales en las que se intente resolver la instancia del problema de la mochila 0-1 proporcionada mediante los algoritmos genéticos implementados en el paquete DEAP, usando las representaciones de los ejercicios 1 a 4, y considerando distintos valores para los parámetros de los algoritmos."
   ]
  },
  {
   "cell_type": "code",
   "execution_count": null,
   "metadata": {
    "collapsed": true
   },
   "outputs": [],
   "source": []
  },
  {
   "cell_type": "markdown",
   "metadata": {},
   "source": [
    "¿Con cuál de las cuatro representaciones has obtenido mejores resultados? ¿Puedes razonar alguna explicación para ello?"
   ]
  }
 ],
 "metadata": {
  "kernelspec": {
   "display_name": "Python 3",
   "language": "python",
   "name": "python3"
  },
  "language_info": {
   "codemirror_mode": {
    "name": "ipython",
    "version": 3
   },
   "file_extension": ".py",
   "mimetype": "text/x-python",
   "name": "python",
   "nbconvert_exporter": "python",
   "pygments_lexer": "ipython3",
   "version": "3.6.4"
  },
  "name": "Solución_04.ipynb"
 },
 "nbformat": 4,
 "nbformat_minor": 1
}
